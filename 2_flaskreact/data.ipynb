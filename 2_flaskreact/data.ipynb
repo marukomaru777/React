{
 "cells": [
  {
   "cell_type": "code",
   "execution_count": null,
   "metadata": {},
   "outputs": [],
   "source": [
    "%pip install flask"
   ]
  },
  {
   "cell_type": "code",
   "execution_count": 2,
   "metadata": {},
   "outputs": [
    {
     "name": "stdout",
     "output_type": "stream",
     "text": [
      "Defaulting to user installation because normal site-packages is not writeable\n",
      "Collecting virtualenv\n",
      "  Downloading virtualenv-20.17.0-py3-none-any.whl (8.8 MB)\n",
      "\u001b[K     |████████████████████████████████| 8.8 MB 357 kB/s eta 0:00:01     |█████████████████████▍          | 5.9 MB 48 kB/s eta 0:01:01\n",
      "\u001b[?25hCollecting filelock<4,>=3.4.1\n",
      "  Downloading filelock-3.8.0-py3-none-any.whl (10 kB)\n",
      "Requirement already satisfied: platformdirs<3,>=2.4 in /Users/weiyuchieh/Library/Python/3.9/lib/python/site-packages (from virtualenv) (2.5.4)\n",
      "Collecting distlib<1,>=0.3.6\n",
      "  Downloading distlib-0.3.6-py2.py3-none-any.whl (468 kB)\n",
      "\u001b[K     |████████████████████████████████| 468 kB 181 kB/s eta 0:00:01\n",
      "\u001b[?25hInstalling collected packages: filelock, distlib, virtualenv\n",
      "\u001b[33m  WARNING: The script virtualenv is installed in '/Users/weiyuchieh/Library/Python/3.9/bin' which is not on PATH.\n",
      "  Consider adding this directory to PATH or, if you prefer to suppress this warning, use --no-warn-script-location.\u001b[0m\n",
      "Successfully installed distlib-0.3.6 filelock-3.8.0 virtualenv-20.17.0\n",
      "\u001b[33mWARNING: You are using pip version 21.2.4; however, version 22.3.1 is available.\n",
      "You should consider upgrading via the '/Library/Developer/CommandLineTools/usr/bin/python3 -m pip install --upgrade pip' command.\u001b[0m\n",
      "Note: you may need to restart the kernel to use updated packages.\n"
     ]
    }
   ],
   "source": [
    "%pip install virtualenv"
   ]
  },
  {
   "cell_type": "code",
   "execution_count": 1,
   "metadata": {},
   "outputs": [
    {
     "name": "stdout",
     "output_type": "stream",
     "text": [
      "Defaulting to user installation because normal site-packages is not writeable\n",
      "Collecting flask_cors\n",
      "  Downloading Flask_Cors-3.0.10-py2.py3-none-any.whl (14 kB)\n",
      "Requirement already satisfied: Flask>=0.9 in /Users/weiyuchieh/Library/Python/3.9/lib/python/site-packages (from flask_cors) (2.2.2)\n",
      "Requirement already satisfied: Six in /Users/weiyuchieh/Library/Python/3.9/lib/python/site-packages (from flask_cors) (1.16.0)\n",
      "Requirement already satisfied: importlib-metadata>=3.6.0 in /Users/weiyuchieh/Library/Python/3.9/lib/python/site-packages (from Flask>=0.9->flask_cors) (5.1.0)\n",
      "Requirement already satisfied: Jinja2>=3.0 in /Users/weiyuchieh/Library/Python/3.9/lib/python/site-packages (from Flask>=0.9->flask_cors) (3.1.2)\n",
      "Requirement already satisfied: itsdangerous>=2.0 in /Users/weiyuchieh/Library/Python/3.9/lib/python/site-packages (from Flask>=0.9->flask_cors) (2.1.2)\n",
      "Requirement already satisfied: click>=8.0 in /Users/weiyuchieh/Library/Python/3.9/lib/python/site-packages (from Flask>=0.9->flask_cors) (8.1.3)\n",
      "Requirement already satisfied: Werkzeug>=2.2.2 in /Users/weiyuchieh/Library/Python/3.9/lib/python/site-packages (from Flask>=0.9->flask_cors) (2.2.2)\n",
      "Requirement already satisfied: zipp>=0.5 in /Users/weiyuchieh/Library/Python/3.9/lib/python/site-packages (from importlib-metadata>=3.6.0->Flask>=0.9->flask_cors) (3.10.0)\n",
      "Requirement already satisfied: MarkupSafe>=2.0 in /Users/weiyuchieh/Library/Python/3.9/lib/python/site-packages (from Jinja2>=3.0->Flask>=0.9->flask_cors) (2.1.1)\n",
      "Installing collected packages: flask-cors\n",
      "Successfully installed flask-cors-3.0.10\n",
      "\u001b[33mWARNING: You are using pip version 21.2.4; however, version 22.3.1 is available.\n",
      "You should consider upgrading via the '/Library/Developer/CommandLineTools/usr/bin/python3 -m pip install --upgrade pip' command.\u001b[0m\n",
      "Note: you may need to restart the kernel to use updated packages.\n"
     ]
    }
   ],
   "source": [
    "%pip install flask_cors"
   ]
  },
  {
   "cell_type": "code",
   "execution_count": null,
   "metadata": {},
   "outputs": [],
   "source": [
    "%pip install flask_restful"
   ]
  },
  {
   "cell_type": "code",
   "execution_count": null,
   "metadata": {},
   "outputs": [],
   "source": [
    "# %pip install yfinance\n",
    "# %pip install jsons"
   ]
  },
  {
   "cell_type": "code",
   "execution_count": null,
   "metadata": {},
   "outputs": [],
   "source": [
    "\n",
    "import yfinance as yf \n",
    "import jsons as json\n",
    "# df=yf.download(symbol [, start, end] [, period, interval])  \n",
    "df = yf.download(\"2330.TW\", \"2022-11-01\")\n",
    "# Convert Pandas DataFrame To JSON Using orient = 'records' \n",
    "result = df.to_json(orient=\"records\")\n",
    "print (df)"
   ]
  },
  {
   "cell_type": "code",
   "execution_count": null,
   "metadata": {},
   "outputs": [],
   "source": [
    "# 載入必須套件\n",
    "from flask import Flask, request\n",
    "from flask_restful import Resource, Api\n",
    "\n",
    "import yfinance as yf\n",
    "\n",
    "app = Flask(__name__)\n",
    "@app.route('/data/GetStockData/<stock>')\n",
    "def GetStockData(stock):\n",
    "    df = yf.download(stock, \"2022-11-01\")\n",
    "    # Convert Pandas DataFrame To JSON Using orient = 'records' \n",
    "    result = df.to_json(orient=\"records\")\n",
    "    return result\n",
    "if __name__ == \"__main__\":\n",
    "    app.run()\n",
    "# http://localhost:8080/data/GetStockData/2330.TW\n",
    "# http://127.0.0.1:5000/data/GetStockData/2330.TW"
   ]
  },
  {
   "cell_type": "markdown",
   "metadata": {},
   "source": []
  }
 ],
 "metadata": {
  "kernelspec": {
   "display_name": "Python 3.9.6 64-bit",
   "language": "python",
   "name": "python3"
  },
  "language_info": {
   "codemirror_mode": {
    "name": "ipython",
    "version": 3
   },
   "file_extension": ".py",
   "mimetype": "text/x-python",
   "name": "python",
   "nbconvert_exporter": "python",
   "pygments_lexer": "ipython3",
   "version": "3.9.6"
  },
  "orig_nbformat": 4,
  "vscode": {
   "interpreter": {
    "hash": "31f2aee4e71d21fbe5cf8b01ff0e069b9275f58929596ceb00d14d90e3e16cd6"
   }
  }
 },
 "nbformat": 4,
 "nbformat_minor": 2
}
