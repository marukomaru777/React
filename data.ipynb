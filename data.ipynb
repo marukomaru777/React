{
 "cells": [
  {
   "cell_type": "code",
   "execution_count": null,
   "metadata": {},
   "outputs": [],
   "source": [
    "%pip install flask"
   ]
  },
  {
   "cell_type": "code",
   "execution_count": null,
   "metadata": {},
   "outputs": [],
   "source": [
    "%pip install flask_restful"
   ]
  },
  {
   "cell_type": "code",
   "execution_count": null,
   "metadata": {},
   "outputs": [],
   "source": [
    "# %pip install yfinance\n",
    "# %pip install jsons"
   ]
  },
  {
   "cell_type": "code",
   "execution_count": null,
   "metadata": {},
   "outputs": [],
   "source": [
    "\n",
    "import yfinance as yf \n",
    "import jsons as json\n",
    "# df=yf.download(symbol [, start, end] [, period, interval])  \n",
    "df = yf.download(\"2330.TW\", \"2022-11-01\")\n",
    "# Convert Pandas DataFrame To JSON Using orient = 'records' \n",
    "result = df.to_json(orient=\"records\")\n",
    "print (df)"
   ]
  },
  {
   "cell_type": "code",
   "execution_count": null,
   "metadata": {},
   "outputs": [],
   "source": [
    "# 載入必須套件\n",
    "from flask import Flask, request\n",
    "from flask_restful import Resource, Api\n",
    "\n",
    "import yfinance as yf\n",
    "\n",
    "app = Flask(__name__)\n",
    "@app.route('/data/GetStockData/<stock>')\n",
    "def GetStockData(stock):\n",
    "    df = yf.download(stock, \"2022-11-01\")\n",
    "    # Convert Pandas DataFrame To JSON Using orient = 'records' \n",
    "    result = df.to_json(orient=\"records\")\n",
    "    return result\n",
    "if __name__ == \"__main__\":\n",
    "    app.run()\n",
    "# http://localhost:8080/data/GetStockData/2330.TW\n",
    "# http://127.0.0.1:5000/data/GetStockData/2330.TW"
   ]
  },
  {
   "cell_type": "markdown",
   "metadata": {},
   "source": []
  }
 ],
 "metadata": {
  "kernelspec": {
   "display_name": "Python 3.9.6 64-bit",
   "language": "python",
   "name": "python3"
  },
  "language_info": {
   "codemirror_mode": {
    "name": "ipython",
    "version": 3
   },
   "file_extension": ".py",
   "mimetype": "text/x-python",
   "name": "python",
   "nbconvert_exporter": "python",
   "pygments_lexer": "ipython3",
   "version": "3.9.6"
  },
  "orig_nbformat": 4,
  "vscode": {
   "interpreter": {
    "hash": "31f2aee4e71d21fbe5cf8b01ff0e069b9275f58929596ceb00d14d90e3e16cd6"
   }
  }
 },
 "nbformat": 4,
 "nbformat_minor": 2
}
